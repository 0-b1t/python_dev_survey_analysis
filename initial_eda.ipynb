{
 "cells": [
  {
   "cell_type": "code",
   "execution_count": 1,
   "metadata": {},
   "outputs": [
    {
     "data": {
      "application/javascript": [
       "\n",
       "            setTimeout(function() {\n",
       "                var nbb_cell_id = 1;\n",
       "                var nbb_unformatted_code = \"%reload_ext nb_black\";\n",
       "                var nbb_formatted_code = \"%reload_ext nb_black\";\n",
       "                var nbb_cells = Jupyter.notebook.get_cells();\n",
       "                for (var i = 0; i < nbb_cells.length; ++i) {\n",
       "                    if (nbb_cells[i].input_prompt_number == nbb_cell_id) {\n",
       "                        if (nbb_cells[i].get_text() == nbb_unformatted_code) {\n",
       "                             nbb_cells[i].set_text(nbb_formatted_code);\n",
       "                        }\n",
       "                        break;\n",
       "                    }\n",
       "                }\n",
       "            }, 500);\n",
       "            "
      ],
      "text/plain": [
       "<IPython.core.display.Javascript object>"
      ]
     },
     "metadata": {},
     "output_type": "display_data"
    }
   ],
   "source": [
    "%reload_ext nb_black"
   ]
  },
  {
   "cell_type": "code",
   "execution_count": 2,
   "metadata": {},
   "outputs": [
    {
     "data": {
      "application/javascript": [
       "\n",
       "            setTimeout(function() {\n",
       "                var nbb_cell_id = 2;\n",
       "                var nbb_unformatted_code = \"import pandas as pd\\nimport numpy as np\\n\\nfrom tqdm.notebook import tqdm\\n\\nimport seaborn as sns\\nimport matplotlib.pyplot as plt\\n\\n%matplotlib inline\";\n",
       "                var nbb_formatted_code = \"import pandas as pd\\nimport numpy as np\\n\\nfrom tqdm.notebook import tqdm\\n\\nimport seaborn as sns\\nimport matplotlib.pyplot as plt\\n\\n%matplotlib inline\";\n",
       "                var nbb_cells = Jupyter.notebook.get_cells();\n",
       "                for (var i = 0; i < nbb_cells.length; ++i) {\n",
       "                    if (nbb_cells[i].input_prompt_number == nbb_cell_id) {\n",
       "                        if (nbb_cells[i].get_text() == nbb_unformatted_code) {\n",
       "                             nbb_cells[i].set_text(nbb_formatted_code);\n",
       "                        }\n",
       "                        break;\n",
       "                    }\n",
       "                }\n",
       "            }, 500);\n",
       "            "
      ],
      "text/plain": [
       "<IPython.core.display.Javascript object>"
      ]
     },
     "metadata": {},
     "output_type": "display_data"
    }
   ],
   "source": [
    "import pandas as pd\n",
    "import numpy as np\n",
    "\n",
    "from tqdm.notebook import tqdm\n",
    "\n",
    "import seaborn as sns\n",
    "import matplotlib.pyplot as plt\n",
    "\n",
    "%matplotlib inline"
   ]
  },
  {
   "cell_type": "code",
   "execution_count": 3,
   "metadata": {},
   "outputs": [
    {
     "data": {
      "application/javascript": [
       "\n",
       "            setTimeout(function() {\n",
       "                var nbb_cell_id = 3;\n",
       "                var nbb_unformatted_code = \"def comma_collapse(x):\\n    \\\"\\\"\\\"Utility function to remove non-strings before apply str.join()\\n    \\n    :param x: list of items to apply str.join() to\\n    :return: len 1 str of joined items in x\\n             Returns empty string if no strings in x\\n    \\\"\\\"\\\"\\n    x_str = [k for k in x if isinstance(k, str)]\\n\\n    if x is None:\\n        comma_sep_list = \\\"\\\"\\n    else:\\n        comma_sep_list = \\\", \\\".join(x_str)\\n    return comma_sep_list\\n\\n\\ndef rename_reverse_colon(df):\\n    \\\"\\\"\\\"Some series of questions take opposite form of most questions that use colons\\n    This is a helper to rename them.\\n    \\n    Examples: \\n        * \\\"use a debugger:When developing in Python, how often do you \\u2026?\\\"\\n        * \\\"Computer graphics:To what extent are you involved in the following activities?\\\"\\n    \\n    Most questions with a `:` in them take a different form where the identifying\\n    info is after the colon. This set of columns requires different processing.\\n    \\n    This function should be applied before other processing that relies on `:`.\\n    \\n    :param df: jetbrains python survery dataframe\\n    :return: df with columns of interest renamed\\n    \\\"\\\"\\\"\\n    phrases = [\\n        {\\n            \\\"key_phrase\\\": \\\"When developing in Python, \\\",\\n            \\\"new_form\\\": \\\"how often do you {x}?\\\",\\n        },\\n        {\\n            \\\"key_phrase\\\": \\\"To what extent are you involved\\\",\\n            \\\"new_form\\\": \\\"how involved are you with {x}?\\\",\\n        },\\n    ]\\n\\n    name_map = {}\\n    for p in phrases:\\n        phrase_df = df.filter(like=p[\\\"key_phrase\\\"])\\n        phrase_cols = phrase_df.columns\\n\\n        for col in phrase_cols:\\n            x = col.split(\\\":\\\")[0]\\n            q = p[\\\"new_form\\\"].format(x=x)\\n            name_map[col] = q\\n\\n    return df.rename(columns=name_map)\";\n",
       "                var nbb_formatted_code = \"def comma_collapse(x):\\n    \\\"\\\"\\\"Utility function to remove non-strings before apply str.join()\\n    \\n    :param x: list of items to apply str.join() to\\n    :return: len 1 str of joined items in x\\n             Returns empty string if no strings in x\\n    \\\"\\\"\\\"\\n    x_str = [k for k in x if isinstance(k, str)]\\n\\n    if x is None:\\n        comma_sep_list = \\\"\\\"\\n    else:\\n        comma_sep_list = \\\", \\\".join(x_str)\\n    return comma_sep_list\\n\\n\\ndef rename_reverse_colon(df):\\n    \\\"\\\"\\\"Some series of questions take opposite form of most questions that use colons\\n    This is a helper to rename them.\\n    \\n    Examples: \\n        * \\\"use a debugger:When developing in Python, how often do you \\u2026?\\\"\\n        * \\\"Computer graphics:To what extent are you involved in the following activities?\\\"\\n    \\n    Most questions with a `:` in them take a different form where the identifying\\n    info is after the colon. This set of columns requires different processing.\\n    \\n    This function should be applied before other processing that relies on `:`.\\n    \\n    :param df: jetbrains python survery dataframe\\n    :return: df with columns of interest renamed\\n    \\\"\\\"\\\"\\n    phrases = [\\n        {\\n            \\\"key_phrase\\\": \\\"When developing in Python, \\\",\\n            \\\"new_form\\\": \\\"how often do you {x}?\\\",\\n        },\\n        {\\n            \\\"key_phrase\\\": \\\"To what extent are you involved\\\",\\n            \\\"new_form\\\": \\\"how involved are you with {x}?\\\",\\n        },\\n    ]\\n\\n    name_map = {}\\n    for p in phrases:\\n        phrase_df = df.filter(like=p[\\\"key_phrase\\\"])\\n        phrase_cols = phrase_df.columns\\n\\n        for col in phrase_cols:\\n            x = col.split(\\\":\\\")[0]\\n            q = p[\\\"new_form\\\"].format(x=x)\\n            name_map[col] = q\\n\\n    return df.rename(columns=name_map)\";\n",
       "                var nbb_cells = Jupyter.notebook.get_cells();\n",
       "                for (var i = 0; i < nbb_cells.length; ++i) {\n",
       "                    if (nbb_cells[i].input_prompt_number == nbb_cell_id) {\n",
       "                        if (nbb_cells[i].get_text() == nbb_unformatted_code) {\n",
       "                             nbb_cells[i].set_text(nbb_formatted_code);\n",
       "                        }\n",
       "                        break;\n",
       "                    }\n",
       "                }\n",
       "            }, 500);\n",
       "            "
      ],
      "text/plain": [
       "<IPython.core.display.Javascript object>"
      ]
     },
     "metadata": {},
     "output_type": "display_data"
    }
   ],
   "source": [
    "def comma_collapse(x):\n",
    "    \"\"\"Utility function to remove non-strings before apply str.join()\n",
    "    \n",
    "    :param x: list of items to apply str.join() to\n",
    "    :return: len 1 str of joined items in x\n",
    "             Returns empty string if no strings in x\n",
    "    \"\"\"\n",
    "    x_str = [k for k in x if isinstance(k, str)]\n",
    "\n",
    "    if x is None:\n",
    "        comma_sep_list = \"\"\n",
    "    else:\n",
    "        comma_sep_list = \", \".join(x_str)\n",
    "    return comma_sep_list\n",
    "\n",
    "\n",
    "def rename_reverse_colon(df):\n",
    "    \"\"\"Some series of questions take opposite form of most questions that use colons\n",
    "    This is a helper to rename them.\n",
    "    \n",
    "    Examples: \n",
    "        * \"use a debugger:When developing in Python, how often do you …?\"\n",
    "        * \"Computer graphics:To what extent are you involved in the following activities?\"\n",
    "    \n",
    "    Most questions with a `:` in them take a different form where the identifying\n",
    "    info is after the colon. This set of columns requires different processing.\n",
    "    \n",
    "    This function should be applied before other processing that relies on `:`.\n",
    "    \n",
    "    :param df: jetbrains python survery dataframe\n",
    "    :return: df with columns of interest renamed\n",
    "    \"\"\"\n",
    "    phrases = [\n",
    "        {\n",
    "            \"key_phrase\": \"When developing in Python, \",\n",
    "            \"new_form\": \"how often do you {x}?\",\n",
    "        },\n",
    "        {\n",
    "            \"key_phrase\": \"To what extent are you involved\",\n",
    "            \"new_form\": \"how involved are you with {x}?\",\n",
    "        },\n",
    "    ]\n",
    "\n",
    "    name_map = {}\n",
    "    for p in phrases:\n",
    "        phrase_df = df.filter(like=p[\"key_phrase\"])\n",
    "        phrase_cols = phrase_df.columns\n",
    "\n",
    "        for col in phrase_cols:\n",
    "            x = col.split(\":\")[0]\n",
    "            q = p[\"new_form\"].format(x=x)\n",
    "            name_map[col] = q\n",
    "\n",
    "    return df.rename(columns=name_map)"
   ]
  },
  {
   "cell_type": "markdown",
   "metadata": {},
   "source": [
    "## Data comments:\n",
    "\n",
    "* All questions were multiple choice. The only columns with more than 24 unique responses are the id field and the country field.\n",
    "* All fields except the id are strings\n",
    "* There is a response category for \"Other – Write In:\" in many cols. We don't have the write in responses in our current data.\n",
    "\n",
    "----\n",
    "\n",
    "## Data fields/groups of interest\n",
    "(after processing) If not listed here, column can go through default categorical encoding\n",
    "    \n",
    "### Do you consider yourself as a Data-Scientist?'\n",
    "\n",
    "* Responses: `['Other – Write In:', 'No', 'Yes']`\n",
    "* Binary and treat write-ins as nan? One-hot?"
   ]
  },
  {
   "cell_type": "code",
   "execution_count": 4,
   "metadata": {},
   "outputs": [
    {
     "data": {
      "text/plain": [
       "(47308, 290)"
      ]
     },
     "execution_count": 4,
     "metadata": {},
     "output_type": "execute_result"
    },
    {
     "data": {
      "application/javascript": [
       "\n",
       "            setTimeout(function() {\n",
       "                var nbb_cell_id = 4;\n",
       "                var nbb_unformatted_code = \"data_path = \\\"data/python_psf_external_19.csv\\\"\\n\\n# Was getting warning about dtypes, took lazy way out with low_memory\\n# instead of setting dtype arg\\nraw_df = pd.read_csv(data_path, low_memory=False)\\nraw_df = rename_reverse_colon(raw_df)\\nraw_df.shape\";\n",
       "                var nbb_formatted_code = \"data_path = \\\"data/python_psf_external_19.csv\\\"\\n\\n# Was getting warning about dtypes, took lazy way out with low_memory\\n# instead of setting dtype arg\\nraw_df = pd.read_csv(data_path, low_memory=False)\\nraw_df = rename_reverse_colon(raw_df)\\nraw_df.shape\";\n",
       "                var nbb_cells = Jupyter.notebook.get_cells();\n",
       "                for (var i = 0; i < nbb_cells.length; ++i) {\n",
       "                    if (nbb_cells[i].input_prompt_number == nbb_cell_id) {\n",
       "                        if (nbb_cells[i].get_text() == nbb_unformatted_code) {\n",
       "                             nbb_cells[i].set_text(nbb_formatted_code);\n",
       "                        }\n",
       "                        break;\n",
       "                    }\n",
       "                }\n",
       "            }, 500);\n",
       "            "
      ],
      "text/plain": [
       "<IPython.core.display.Javascript object>"
      ]
     },
     "metadata": {},
     "output_type": "display_data"
    }
   ],
   "source": [
    "data_path = \"data/python_psf_external_19.csv\"\n",
    "\n",
    "# Was getting warning about dtypes, took lazy way out with low_memory\n",
    "# instead of setting dtype arg\n",
    "raw_df = pd.read_csv(data_path, low_memory=False)\n",
    "raw_df = rename_reverse_colon(raw_df)\n",
    "raw_df.shape"
   ]
  },
  {
   "cell_type": "code",
   "execution_count": 5,
   "metadata": {
    "scrolled": false
   },
   "outputs": [
    {
     "data": {
      "application/vnd.jupyter.widget-view+json": {
       "model_id": "3b0704fde0d945fd8e947098234f699f",
       "version_major": 2,
       "version_minor": 0
      },
      "text/plain": [
       "HBox(children=(FloatProgress(value=0.0, max=19.0), HTML(value='')))"
      ]
     },
     "metadata": {},
     "output_type": "display_data"
    },
    {
     "name": "stdout",
     "output_type": "stream",
     "text": [
      "\n"
     ]
    },
    {
     "data": {
      "text/html": [
       "<div>\n",
       "<style scoped>\n",
       "    .dataframe tbody tr th:only-of-type {\n",
       "        vertical-align: middle;\n",
       "    }\n",
       "\n",
       "    .dataframe tbody tr th {\n",
       "        vertical-align: top;\n",
       "    }\n",
       "\n",
       "    .dataframe thead th {\n",
       "        text-align: right;\n",
       "    }\n",
       "</style>\n",
       "<table border=\"1\" class=\"dataframe\">\n",
       "  <thead>\n",
       "    <tr style=\"text-align: right;\">\n",
       "      <th></th>\n",
       "      <th>Is Python the main language you use for your current projects?</th>\n",
       "      <th>How long have you been programming in Python?</th>\n",
       "      <th>How many years of professional coding experience do you have?</th>\n",
       "      <th>For what purposes do you mainly use Python?</th>\n",
       "      <th>how involved are you with Computer graphics?</th>\n",
       "      <th>how involved are you with Data analysis?</th>\n",
       "      <th>how involved are you with Desktop development?</th>\n",
       "      <th>how involved are you with DevOps / System administration / Writing automation scripts?</th>\n",
       "      <th>how involved are you with Educational purposes?</th>\n",
       "      <th>how involved are you with Embedded development?</th>\n",
       "      <th>...</th>\n",
       "      <th>How do you develop for the cloud?</th>\n",
       "      <th>What operating system(s) are your development environment?</th>\n",
       "      <th>Which Python unit-testing framework(s) do you use, if any?</th>\n",
       "      <th>What ORM(s) do you use together with Python, if any?</th>\n",
       "      <th>Which database(s) do you regularly use, if any?</th>\n",
       "      <th>Which of the following Big Data tool(s) do you use, if any?</th>\n",
       "      <th>Which Continuous Integration (CI) system(s) do you regularly use?</th>\n",
       "      <th>Which configuration management tools do you use, if any?</th>\n",
       "      <th>What editors/IDEs do you use for Python development in addition to your primary IDE?</th>\n",
       "      <th>Which of the following best describes your job role(s)?</th>\n",
       "    </tr>\n",
       "    <tr>\n",
       "      <th>response_id</th>\n",
       "      <th></th>\n",
       "      <th></th>\n",
       "      <th></th>\n",
       "      <th></th>\n",
       "      <th></th>\n",
       "      <th></th>\n",
       "      <th></th>\n",
       "      <th></th>\n",
       "      <th></th>\n",
       "      <th></th>\n",
       "      <th></th>\n",
       "      <th></th>\n",
       "      <th></th>\n",
       "      <th></th>\n",
       "      <th></th>\n",
       "      <th></th>\n",
       "      <th></th>\n",
       "      <th></th>\n",
       "      <th></th>\n",
       "      <th></th>\n",
       "      <th></th>\n",
       "    </tr>\n",
       "  </thead>\n",
       "  <tbody>\n",
       "    <tr>\n",
       "      <th>10</th>\n",
       "      <td>Yes</td>\n",
       "      <td>6–10 years</td>\n",
       "      <td>11+ years</td>\n",
       "      <td>Both for work and personal</td>\n",
       "      <td>NaN</td>\n",
       "      <td>NaN</td>\n",
       "      <td>NaN</td>\n",
       "      <td>secondary activity</td>\n",
       "      <td>NaN</td>\n",
       "      <td>NaN</td>\n",
       "      <td>...</td>\n",
       "      <td>Locally with virtualenv (or similar)</td>\n",
       "      <td>macOS</td>\n",
       "      <td>mock, pytest, unittest</td>\n",
       "      <td>Django ORM</td>\n",
       "      <td>MySQL, Oracle Database</td>\n",
       "      <td>Apache Kafka</td>\n",
       "      <td>AppVeyor, Gitlab CI, Jenkins / Hudson, Travis CI</td>\n",
       "      <td>Chef, Puppet, Salt</td>\n",
       "      <td>Vim</td>\n",
       "      <td>Developer / Programmer</td>\n",
       "    </tr>\n",
       "    <tr>\n",
       "      <th>100</th>\n",
       "      <td>Yes</td>\n",
       "      <td>3–5 years</td>\n",
       "      <td>1–2 years</td>\n",
       "      <td>For work</td>\n",
       "      <td>NaN</td>\n",
       "      <td>NaN</td>\n",
       "      <td>NaN</td>\n",
       "      <td>NaN</td>\n",
       "      <td>NaN</td>\n",
       "      <td>NaN</td>\n",
       "      <td>...</td>\n",
       "      <td>In Docker containers, In virtual machines</td>\n",
       "      <td>macOS</td>\n",
       "      <td>mock, pytest, unittest</td>\n",
       "      <td>Django ORM</td>\n",
       "      <td>PostgreSQL</td>\n",
       "      <td>None</td>\n",
       "      <td>Gitlab CI</td>\n",
       "      <td>None</td>\n",
       "      <td>PyCharm Professional Edition</td>\n",
       "      <td>Developer / Programmer</td>\n",
       "    </tr>\n",
       "    <tr>\n",
       "      <th>1000</th>\n",
       "      <td>Yes</td>\n",
       "      <td>3–5 years</td>\n",
       "      <td>3–5 years</td>\n",
       "      <td>Both for work and personal</td>\n",
       "      <td>NaN</td>\n",
       "      <td>secondary activity</td>\n",
       "      <td>NaN</td>\n",
       "      <td>NaN</td>\n",
       "      <td>NaN</td>\n",
       "      <td>NaN</td>\n",
       "      <td>...</td>\n",
       "      <td>With local system interpreter</td>\n",
       "      <td>Linux, macOS</td>\n",
       "      <td>pytest</td>\n",
       "      <td>None</td>\n",
       "      <td>None</td>\n",
       "      <td>Apache Kafka</td>\n",
       "      <td>None</td>\n",
       "      <td>None</td>\n",
       "      <td>PyCharm Community Edition, Sublime Text</td>\n",
       "      <td>Other – Write In:</td>\n",
       "    </tr>\n",
       "    <tr>\n",
       "      <th>10000</th>\n",
       "      <td>Yes</td>\n",
       "      <td>1–2 years</td>\n",
       "      <td>Less than 1 year</td>\n",
       "      <td>For personal, educational  or side projects</td>\n",
       "      <td>NaN</td>\n",
       "      <td>NaN</td>\n",
       "      <td>NaN</td>\n",
       "      <td>NaN</td>\n",
       "      <td>NaN</td>\n",
       "      <td>NaN</td>\n",
       "      <td>...</td>\n",
       "      <td></td>\n",
       "      <td></td>\n",
       "      <td></td>\n",
       "      <td></td>\n",
       "      <td></td>\n",
       "      <td></td>\n",
       "      <td></td>\n",
       "      <td></td>\n",
       "      <td></td>\n",
       "      <td></td>\n",
       "    </tr>\n",
       "    <tr>\n",
       "      <th>10001</th>\n",
       "      <td>NaN</td>\n",
       "      <td>NaN</td>\n",
       "      <td>NaN</td>\n",
       "      <td>NaN</td>\n",
       "      <td>NaN</td>\n",
       "      <td>NaN</td>\n",
       "      <td>NaN</td>\n",
       "      <td>NaN</td>\n",
       "      <td>NaN</td>\n",
       "      <td>NaN</td>\n",
       "      <td>...</td>\n",
       "      <td></td>\n",
       "      <td></td>\n",
       "      <td></td>\n",
       "      <td></td>\n",
       "      <td></td>\n",
       "      <td></td>\n",
       "      <td></td>\n",
       "      <td></td>\n",
       "      <td></td>\n",
       "      <td></td>\n",
       "    </tr>\n",
       "  </tbody>\n",
       "</table>\n",
       "<p>5 rows × 71 columns</p>\n",
       "</div>"
      ],
      "text/plain": [
       "            Is Python the main language you use for your current projects?  \\\n",
       "response_id                                                                  \n",
       "10                                                         Yes               \n",
       "100                                                        Yes               \n",
       "1000                                                       Yes               \n",
       "10000                                                      Yes               \n",
       "10001                                                      NaN               \n",
       "\n",
       "            How long have you been programming in Python?  \\\n",
       "response_id                                                 \n",
       "10                                             6–10 years   \n",
       "100                                             3–5 years   \n",
       "1000                                            3–5 years   \n",
       "10000                                           1–2 years   \n",
       "10001                                                 NaN   \n",
       "\n",
       "            How many years of professional coding experience do you have?  \\\n",
       "response_id                                                                 \n",
       "10                                                   11+ years              \n",
       "100                                                  1–2 years              \n",
       "1000                                                 3–5 years              \n",
       "10000                                         Less than 1 year              \n",
       "10001                                                      NaN              \n",
       "\n",
       "             For what purposes do you mainly use Python?  \\\n",
       "response_id                                                \n",
       "10                            Both for work and personal   \n",
       "100                                             For work   \n",
       "1000                          Both for work and personal   \n",
       "10000        For personal, educational  or side projects   \n",
       "10001                                                NaN   \n",
       "\n",
       "            how involved are you with Computer graphics?  \\\n",
       "response_id                                                \n",
       "10                                                   NaN   \n",
       "100                                                  NaN   \n",
       "1000                                                 NaN   \n",
       "10000                                                NaN   \n",
       "10001                                                NaN   \n",
       "\n",
       "            how involved are you with Data analysis?  \\\n",
       "response_id                                            \n",
       "10                                               NaN   \n",
       "100                                              NaN   \n",
       "1000                              secondary activity   \n",
       "10000                                            NaN   \n",
       "10001                                            NaN   \n",
       "\n",
       "            how involved are you with Desktop development?  \\\n",
       "response_id                                                  \n",
       "10                                                     NaN   \n",
       "100                                                    NaN   \n",
       "1000                                                   NaN   \n",
       "10000                                                  NaN   \n",
       "10001                                                  NaN   \n",
       "\n",
       "            how involved are you with DevOps / System administration / Writing automation scripts?  \\\n",
       "response_id                                                                                          \n",
       "10                                          secondary activity                                       \n",
       "100                                                        NaN                                       \n",
       "1000                                                       NaN                                       \n",
       "10000                                                      NaN                                       \n",
       "10001                                                      NaN                                       \n",
       "\n",
       "            how involved are you with Educational purposes?  \\\n",
       "response_id                                                   \n",
       "10                                                      NaN   \n",
       "100                                                     NaN   \n",
       "1000                                                    NaN   \n",
       "10000                                                   NaN   \n",
       "10001                                                   NaN   \n",
       "\n",
       "            how involved are you with Embedded development?  ...  \\\n",
       "response_id                                                  ...   \n",
       "10                                                      NaN  ...   \n",
       "100                                                     NaN  ...   \n",
       "1000                                                    NaN  ...   \n",
       "10000                                                   NaN  ...   \n",
       "10001                                                   NaN  ...   \n",
       "\n",
       "                     How do you develop for the cloud?  \\\n",
       "response_id                                              \n",
       "10                Locally with virtualenv (or similar)   \n",
       "100          In Docker containers, In virtual machines   \n",
       "1000                     With local system interpreter   \n",
       "10000                                                    \n",
       "10001                                                    \n",
       "\n",
       "            What operating system(s) are your development environment?  \\\n",
       "response_id                                                              \n",
       "10                                                       macOS           \n",
       "100                                                      macOS           \n",
       "1000                                              Linux, macOS           \n",
       "10000                                                                    \n",
       "10001                                                                    \n",
       "\n",
       "            Which Python unit-testing framework(s) do you use, if any?  \\\n",
       "response_id                                                              \n",
       "10                                      mock, pytest, unittest           \n",
       "100                                     mock, pytest, unittest           \n",
       "1000                                                    pytest           \n",
       "10000                                                                    \n",
       "10001                                                                    \n",
       "\n",
       "            What ORM(s) do you use together with Python, if any?  \\\n",
       "response_id                                                        \n",
       "10                                                  Django ORM     \n",
       "100                                                 Django ORM     \n",
       "1000                                                      None     \n",
       "10000                                                              \n",
       "10001                                                              \n",
       "\n",
       "            Which database(s) do you regularly use, if any?  \\\n",
       "response_id                                                   \n",
       "10                                   MySQL, Oracle Database   \n",
       "100                                              PostgreSQL   \n",
       "1000                                                   None   \n",
       "10000                                                         \n",
       "10001                                                         \n",
       "\n",
       "            Which of the following Big Data tool(s) do you use, if any?  \\\n",
       "response_id                                                               \n",
       "10                                                Apache Kafka            \n",
       "100                                                       None            \n",
       "1000                                              Apache Kafka            \n",
       "10000                                                                     \n",
       "10001                                                                     \n",
       "\n",
       "            Which Continuous Integration (CI) system(s) do you regularly use?  \\\n",
       "response_id                                                                     \n",
       "10            AppVeyor, Gitlab CI, Jenkins / Hudson, Travis CI                  \n",
       "100                                                  Gitlab CI                  \n",
       "1000                                                      None                  \n",
       "10000                                                                           \n",
       "10001                                                                           \n",
       "\n",
       "            Which configuration management tools do you use, if any?  \\\n",
       "response_id                                                            \n",
       "10                                          Chef, Puppet, Salt         \n",
       "100                                                       None         \n",
       "1000                                                      None         \n",
       "10000                                                                  \n",
       "10001                                                                  \n",
       "\n",
       "            What editors/IDEs do you use for Python development in addition to your primary IDE?  \\\n",
       "response_id                                                                                        \n",
       "10                                                         Vim                                     \n",
       "100                               PyCharm Professional Edition                                     \n",
       "1000                   PyCharm Community Edition, Sublime Text                                     \n",
       "10000                                                                                              \n",
       "10001                                                                                              \n",
       "\n",
       "            Which of the following best describes your job role(s)?  \n",
       "response_id                                                          \n",
       "10                                      Developer / Programmer       \n",
       "100                                     Developer / Programmer       \n",
       "1000                                         Other – Write In:       \n",
       "10000                                                                \n",
       "10001                                                                \n",
       "\n",
       "[5 rows x 71 columns]"
      ]
     },
     "execution_count": 5,
     "metadata": {},
     "output_type": "execute_result"
    },
    {
     "data": {
      "application/javascript": [
       "\n",
       "            setTimeout(function() {\n",
       "                var nbb_cell_id = 5;\n",
       "                var nbb_unformatted_code = \"colon_cols = [c for c in raw_df if \\\":\\\" in c]\\nnon_colon_cols = [c for c in raw_df if c not in colon_cols]\\n\\ncolon_col_names = pd.Series(colon_cols)\\ncolon_unique_qs = colon_col_names.str.split(\\\":\\\").str[-1].unique()\\n\\ncollapsed_series = []\\nfor qoi in tqdm(colon_unique_qs):\\n    df_oi = raw_df.filter(like=qoi)\\n    collapsed = df_oi.apply(comma_collapse, axis=1)\\n    collapsed.name = qoi.strip()\\n    collapsed_series.append(collapsed)\\n\\n\\ncolon_df = pd.concat(collapsed_series, axis=1)\\ndf = pd.concat((raw_df[non_colon_cols], colon_df), axis=1)\\ndf = df.set_index(\\\"response_id\\\")\\n\\n# Removing \\\"Not sure\\\" responses to \\\"How many people work for your company / organization?\\\"\\n# Only drops ~3% of records, and not sure how to map them ordinally with rest of\\n# responses\\ndf = df[df[\\\"How many people work for your company / organization?\\\"] != \\\"Not sure\\\"]\\n\\ndf.head()\";\n",
       "                var nbb_formatted_code = \"colon_cols = [c for c in raw_df if \\\":\\\" in c]\\nnon_colon_cols = [c for c in raw_df if c not in colon_cols]\\n\\ncolon_col_names = pd.Series(colon_cols)\\ncolon_unique_qs = colon_col_names.str.split(\\\":\\\").str[-1].unique()\\n\\ncollapsed_series = []\\nfor qoi in tqdm(colon_unique_qs):\\n    df_oi = raw_df.filter(like=qoi)\\n    collapsed = df_oi.apply(comma_collapse, axis=1)\\n    collapsed.name = qoi.strip()\\n    collapsed_series.append(collapsed)\\n\\n\\ncolon_df = pd.concat(collapsed_series, axis=1)\\ndf = pd.concat((raw_df[non_colon_cols], colon_df), axis=1)\\ndf = df.set_index(\\\"response_id\\\")\\n\\n# Removing \\\"Not sure\\\" responses to \\\"How many people work for your company / organization?\\\"\\n# Only drops ~3% of records, and not sure how to map them ordinally with rest of\\n# responses\\ndf = df[df[\\\"How many people work for your company / organization?\\\"] != \\\"Not sure\\\"]\\n\\ndf.head()\";\n",
       "                var nbb_cells = Jupyter.notebook.get_cells();\n",
       "                for (var i = 0; i < nbb_cells.length; ++i) {\n",
       "                    if (nbb_cells[i].input_prompt_number == nbb_cell_id) {\n",
       "                        if (nbb_cells[i].get_text() == nbb_unformatted_code) {\n",
       "                             nbb_cells[i].set_text(nbb_formatted_code);\n",
       "                        }\n",
       "                        break;\n",
       "                    }\n",
       "                }\n",
       "            }, 500);\n",
       "            "
      ],
      "text/plain": [
       "<IPython.core.display.Javascript object>"
      ]
     },
     "metadata": {},
     "output_type": "display_data"
    }
   ],
   "source": [
    "colon_cols = [c for c in raw_df if \":\" in c]\n",
    "non_colon_cols = [c for c in raw_df if c not in colon_cols]\n",
    "\n",
    "colon_col_names = pd.Series(colon_cols)\n",
    "colon_unique_qs = colon_col_names.str.split(\":\").str[-1].unique()\n",
    "\n",
    "collapsed_series = []\n",
    "for qoi in tqdm(colon_unique_qs):\n",
    "    df_oi = raw_df.filter(like=qoi)\n",
    "    collapsed = df_oi.apply(comma_collapse, axis=1)\n",
    "    collapsed.name = qoi.strip()\n",
    "    collapsed_series.append(collapsed)\n",
    "\n",
    "\n",
    "colon_df = pd.concat(collapsed_series, axis=1)\n",
    "df = pd.concat((raw_df[non_colon_cols], colon_df), axis=1)\n",
    "df = df.set_index(\"response_id\")\n",
    "\n",
    "# Removing \"Not sure\" responses to \"How many people work for your company / organization?\"\n",
    "# Only drops ~3% of records, and not sure how to map them ordinally with rest of\n",
    "# responses\n",
    "df = df[df[\"How many people work for your company / organization?\"] != \"Not sure\"]\n",
    "\n",
    "df.head()"
   ]
  },
  {
   "cell_type": "markdown",
   "metadata": {},
   "source": [
    "### Mapping Ordinal Categories to Integers"
   ]
  },
  {
   "cell_type": "code",
   "execution_count": 6,
   "metadata": {},
   "outputs": [
    {
     "data": {
      "application/javascript": [
       "\n",
       "            setTimeout(function() {\n",
       "                var nbb_cell_id = 6;\n",
       "                var nbb_unformatted_code = \"# Convert df to nums\\nordinal_mappers = {\\n    \\\"Is Python the main language you use for your current projects?\\\": {\\n        \\\"Yes\\\": 3,\\n        \\\"No, I use Python as a secondary language\\\": 2,\\n        \\\"No, I don\\u2019t use Python for my current projects\\\": 1,\\n    },\\n    \\\"How long have you been programming in Python?\\\": {\\n        \\\"11+ years\\\": 5,\\n        \\\"6\\u201310 years\\\": 4,\\n        \\\"3\\u20135 years\\\": 3,\\n        \\\"1\\u20132 years\\\": 2,\\n        \\\"Less than 1 year\\\": 1,\\n    },\\n    \\\"How many years of professional coding experience do you have?\\\": {\\n        \\\"11+ years\\\": 5,\\n        \\\"6\\u201310 years\\\": 4,\\n        \\\"3\\u20135 years\\\": 3,\\n        \\\"1\\u20132 years\\\": 2,\\n        \\\"Less than 1 year\\\": 1,\\n    },\\n    \\\"How often do you use your primary IDE?\\\": {\\n        \\\"Daily\\\": 4,\\n        \\\"Weekly\\\": 3,\\n        \\\"Monthly\\\": 2,\\n        \\\"Less frequently\\\": 1,\\n    },\\n    \\\"How many people are in your project team?\\\": {\\n        \\\"More than 40 people\\\": 5,\\n        \\\"21-40 people\\\": 4,\\n        \\\"13-20 people\\\": 3,\\n        \\\"8-12 people\\\": 2,\\n        \\\"2-7 people\\\": 1,\\n    },\\n    \\\"How many people work for your company / organization?\\\": {\\n        \\\"More than 5,000\\\": 7,\\n        \\\"1,001\\u20135,000\\\": 6,\\n        \\\"501\\u20131,000\\\": 5,\\n        \\\"51\\u2013500\\\": 4,\\n        \\\"11\\u201350\\\": 3,\\n        \\\"2\\u201310\\\": 2,\\n        \\\"Just me\\\": 1,\\n        \\\"Not sure\\\": -1,\\n    },\\n    \\\"Could you tell us your age range?\\\": {\\n        \\\"60 or older\\\": 6,\\n        \\\"50\\u201359\\\": 5,\\n        \\\"40\\u201349\\\": 4,\\n        \\\"30\\u201339\\\": 3,\\n        \\\"21\\u201329\\\": 2,\\n        \\\"18\\u201320\\\": 1,\\n    },\\n}\\n\\n\\nfor col_name, ordinal_map in ordinal_mappers.items():\\n    df[col_name] = df[col_name].replace(ordinal_map)\";\n",
       "                var nbb_formatted_code = \"# Convert df to nums\\nordinal_mappers = {\\n    \\\"Is Python the main language you use for your current projects?\\\": {\\n        \\\"Yes\\\": 3,\\n        \\\"No, I use Python as a secondary language\\\": 2,\\n        \\\"No, I don\\u2019t use Python for my current projects\\\": 1,\\n    },\\n    \\\"How long have you been programming in Python?\\\": {\\n        \\\"11+ years\\\": 5,\\n        \\\"6\\u201310 years\\\": 4,\\n        \\\"3\\u20135 years\\\": 3,\\n        \\\"1\\u20132 years\\\": 2,\\n        \\\"Less than 1 year\\\": 1,\\n    },\\n    \\\"How many years of professional coding experience do you have?\\\": {\\n        \\\"11+ years\\\": 5,\\n        \\\"6\\u201310 years\\\": 4,\\n        \\\"3\\u20135 years\\\": 3,\\n        \\\"1\\u20132 years\\\": 2,\\n        \\\"Less than 1 year\\\": 1,\\n    },\\n    \\\"How often do you use your primary IDE?\\\": {\\n        \\\"Daily\\\": 4,\\n        \\\"Weekly\\\": 3,\\n        \\\"Monthly\\\": 2,\\n        \\\"Less frequently\\\": 1,\\n    },\\n    \\\"How many people are in your project team?\\\": {\\n        \\\"More than 40 people\\\": 5,\\n        \\\"21-40 people\\\": 4,\\n        \\\"13-20 people\\\": 3,\\n        \\\"8-12 people\\\": 2,\\n        \\\"2-7 people\\\": 1,\\n    },\\n    \\\"How many people work for your company / organization?\\\": {\\n        \\\"More than 5,000\\\": 7,\\n        \\\"1,001\\u20135,000\\\": 6,\\n        \\\"501\\u20131,000\\\": 5,\\n        \\\"51\\u2013500\\\": 4,\\n        \\\"11\\u201350\\\": 3,\\n        \\\"2\\u201310\\\": 2,\\n        \\\"Just me\\\": 1,\\n        \\\"Not sure\\\": -1,\\n    },\\n    \\\"Could you tell us your age range?\\\": {\\n        \\\"60 or older\\\": 6,\\n        \\\"50\\u201359\\\": 5,\\n        \\\"40\\u201349\\\": 4,\\n        \\\"30\\u201339\\\": 3,\\n        \\\"21\\u201329\\\": 2,\\n        \\\"18\\u201320\\\": 1,\\n    },\\n}\\n\\n\\nfor col_name, ordinal_map in ordinal_mappers.items():\\n    df[col_name] = df[col_name].replace(ordinal_map)\";\n",
       "                var nbb_cells = Jupyter.notebook.get_cells();\n",
       "                for (var i = 0; i < nbb_cells.length; ++i) {\n",
       "                    if (nbb_cells[i].input_prompt_number == nbb_cell_id) {\n",
       "                        if (nbb_cells[i].get_text() == nbb_unformatted_code) {\n",
       "                             nbb_cells[i].set_text(nbb_formatted_code);\n",
       "                        }\n",
       "                        break;\n",
       "                    }\n",
       "                }\n",
       "            }, 500);\n",
       "            "
      ],
      "text/plain": [
       "<IPython.core.display.Javascript object>"
      ]
     },
     "metadata": {},
     "output_type": "display_data"
    }
   ],
   "source": [
    "# Convert df to nums\n",
    "ordinal_mappers = {\n",
    "    \"Is Python the main language you use for your current projects?\": {\n",
    "        \"Yes\": 3,\n",
    "        \"No, I use Python as a secondary language\": 2,\n",
    "        \"No, I don’t use Python for my current projects\": 1,\n",
    "    },\n",
    "    \"How long have you been programming in Python?\": {\n",
    "        \"11+ years\": 5,\n",
    "        \"6–10 years\": 4,\n",
    "        \"3–5 years\": 3,\n",
    "        \"1–2 years\": 2,\n",
    "        \"Less than 1 year\": 1,\n",
    "    },\n",
    "    \"How many years of professional coding experience do you have?\": {\n",
    "        \"11+ years\": 5,\n",
    "        \"6–10 years\": 4,\n",
    "        \"3–5 years\": 3,\n",
    "        \"1–2 years\": 2,\n",
    "        \"Less than 1 year\": 1,\n",
    "    },\n",
    "    \"How often do you use your primary IDE?\": {\n",
    "        \"Daily\": 4,\n",
    "        \"Weekly\": 3,\n",
    "        \"Monthly\": 2,\n",
    "        \"Less frequently\": 1,\n",
    "    },\n",
    "    \"How many people are in your project team?\": {\n",
    "        \"More than 40 people\": 5,\n",
    "        \"21-40 people\": 4,\n",
    "        \"13-20 people\": 3,\n",
    "        \"8-12 people\": 2,\n",
    "        \"2-7 people\": 1,\n",
    "    },\n",
    "    \"How many people work for your company / organization?\": {\n",
    "        \"More than 5,000\": 7,\n",
    "        \"1,001–5,000\": 6,\n",
    "        \"501–1,000\": 5,\n",
    "        \"51–500\": 4,\n",
    "        \"11–50\": 3,\n",
    "        \"2–10\": 2,\n",
    "        \"Just me\": 1,\n",
    "        \"Not sure\": -1,\n",
    "    },\n",
    "    \"Could you tell us your age range?\": {\n",
    "        \"60 or older\": 6,\n",
    "        \"50–59\": 5,\n",
    "        \"40–49\": 4,\n",
    "        \"30–39\": 3,\n",
    "        \"21–29\": 2,\n",
    "        \"18–20\": 1,\n",
    "    },\n",
    "}\n",
    "\n",
    "\n",
    "for col_name, ordinal_map in ordinal_mappers.items():\n",
    "    df[col_name] = df[col_name].replace(ordinal_map)"
   ]
  },
  {
   "cell_type": "code",
   "execution_count": 7,
   "metadata": {},
   "outputs": [
    {
     "data": {
      "application/javascript": [
       "\n",
       "            setTimeout(function() {\n",
       "                var nbb_cell_id = 7;\n",
       "                var nbb_unformatted_code = \"cols_oi = df.filter(like=\\\"how often do you\\\").columns\\nordinal_map = {\\\"Often\\\": 3, \\\"From time<br />to time\\\": 2, \\\"Never or<br />Almost never\\\": 1}\\n\\ndf[cols_oi] = df[cols_oi].replace(ordinal_map)\";\n",
       "                var nbb_formatted_code = \"cols_oi = df.filter(like=\\\"how often do you\\\").columns\\nordinal_map = {\\\"Often\\\": 3, \\\"From time<br />to time\\\": 2, \\\"Never or<br />Almost never\\\": 1}\\n\\ndf[cols_oi] = df[cols_oi].replace(ordinal_map)\";\n",
       "                var nbb_cells = Jupyter.notebook.get_cells();\n",
       "                for (var i = 0; i < nbb_cells.length; ++i) {\n",
       "                    if (nbb_cells[i].input_prompt_number == nbb_cell_id) {\n",
       "                        if (nbb_cells[i].get_text() == nbb_unformatted_code) {\n",
       "                             nbb_cells[i].set_text(nbb_formatted_code);\n",
       "                        }\n",
       "                        break;\n",
       "                    }\n",
       "                }\n",
       "            }, 500);\n",
       "            "
      ],
      "text/plain": [
       "<IPython.core.display.Javascript object>"
      ]
     },
     "metadata": {},
     "output_type": "display_data"
    }
   ],
   "source": [
    "cols_oi = df.filter(like=\"how often do you\").columns\n",
    "ordinal_map = {\"Often\": 3, \"From time<br />to time\": 2, \"Never or<br />Almost never\": 1}\n",
    "\n",
    "df[cols_oi] = df[cols_oi].replace(ordinal_map)"
   ]
  },
  {
   "cell_type": "code",
   "execution_count": 8,
   "metadata": {},
   "outputs": [
    {
     "data": {
      "application/javascript": [
       "\n",
       "            setTimeout(function() {\n",
       "                var nbb_cell_id = 8;\n",
       "                var nbb_unformatted_code = \"cols_oi = df.filter(like=\\\"how involved\\\").columns\\nordinal_map = {\\\"primary activity\\\": 3, \\\"secondary activity\\\": 2, \\\"hobby\\\": 1}\\n\\ndf[cols_oi] = df[cols_oi].replace(ordinal_map)\";\n",
       "                var nbb_formatted_code = \"cols_oi = df.filter(like=\\\"how involved\\\").columns\\nordinal_map = {\\\"primary activity\\\": 3, \\\"secondary activity\\\": 2, \\\"hobby\\\": 1}\\n\\ndf[cols_oi] = df[cols_oi].replace(ordinal_map)\";\n",
       "                var nbb_cells = Jupyter.notebook.get_cells();\n",
       "                for (var i = 0; i < nbb_cells.length; ++i) {\n",
       "                    if (nbb_cells[i].input_prompt_number == nbb_cell_id) {\n",
       "                        if (nbb_cells[i].get_text() == nbb_unformatted_code) {\n",
       "                             nbb_cells[i].set_text(nbb_formatted_code);\n",
       "                        }\n",
       "                        break;\n",
       "                    }\n",
       "                }\n",
       "            }, 500);\n",
       "            "
      ],
      "text/plain": [
       "<IPython.core.display.Javascript object>"
      ]
     },
     "metadata": {},
     "output_type": "display_data"
    }
   ],
   "source": [
    "cols_oi = df.filter(like=\"how involved\").columns\n",
    "ordinal_map = {\"primary activity\": 3, \"secondary activity\": 2, \"hobby\": 1}\n",
    "\n",
    "df[cols_oi] = df[cols_oi].replace(ordinal_map)"
   ]
  },
  {
   "cell_type": "markdown",
   "metadata": {},
   "source": [
    "###  Mapping Comma Sep List (csl) Cols to Dummies"
   ]
  },
  {
   "cell_type": "code",
   "execution_count": 9,
   "metadata": {},
   "outputs": [
    {
     "data": {
      "application/vnd.jupyter.widget-view+json": {
       "model_id": "0a1ac40de0ac40f68cb83a87a7d6bfa8",
       "version_major": 2,
       "version_minor": 0
      },
      "text/plain": [
       "HBox(children=(FloatProgress(value=0.0, max=19.0), HTML(value='')))"
      ]
     },
     "metadata": {},
     "output_type": "display_data"
    },
    {
     "name": "stdout",
     "output_type": "stream",
     "text": [
      "\n"
     ]
    },
    {
     "data": {
      "application/javascript": [
       "\n",
       "            setTimeout(function() {\n",
       "                var nbb_cell_id = 9;\n",
       "                var nbb_unformatted_code = \"csl_cols = [\\n    \\\"What other language(s) do you use?\\\",\\n    \\\"What do you use Python for?\\\",\\n    \\\"What do you typically use to upgrade your Python version?\\\",\\n    \\\"Do you use any of the following tools to isolate Python environments, if any?\\\",\\n    \\\"What web frameworks / libraries do you use in addition to Python?\\\",\\n    \\\"What data science framework(s) do you use in addition to Python?\\\",\\n    \\\"Which of the following frameworks / libraries do you use in addition to Python?\\\",\\n    \\\"Which of the following cloud platforms do you use?\\\",\\n    \\\"How do you run code in the cloud (in the production environment)?\\\",\\n    \\\"How do you develop for the cloud?\\\",\\n    \\\"What operating system(s) are your development environment?\\\",\\n    \\\"Which Python unit-testing framework(s) do you use, if any?\\\",\\n    \\\"What ORM(s) do you use together with Python, if any?\\\",\\n    \\\"Which database(s) do you regularly use, if any?\\\",\\n    \\\"Which of the following Big Data tool(s) do you use, if any?\\\",\\n    \\\"Which Continuous Integration (CI) system(s) do you regularly use?\\\",\\n    \\\"Which configuration management tools do you use, if any?\\\",\\n    \\\"What editors/IDEs do you use for Python development in addition to your primary IDE?\\\",\\n    \\\"Which of the following best describes your job role(s)?\\\",\\n]\\n\\nnon_csl_cols = [c for c in df if c not in csl_cols]\\nnon_csl_df = df[non_csl_cols]\\n\\none_hot_dfs = []\\nfor col in tqdm(csl_cols):\\n    one_hot_df = df[col].str.get_dummies(\\\", \\\")\\n    one_hot_dfs.append(one_hot_df)\\n\\nfull_one_hot_df = pd.concat(one_hot_dfs, axis=1)\\ndf = pd.concat((df, full_one_hot_df), axis=1)\";\n",
       "                var nbb_formatted_code = \"csl_cols = [\\n    \\\"What other language(s) do you use?\\\",\\n    \\\"What do you use Python for?\\\",\\n    \\\"What do you typically use to upgrade your Python version?\\\",\\n    \\\"Do you use any of the following tools to isolate Python environments, if any?\\\",\\n    \\\"What web frameworks / libraries do you use in addition to Python?\\\",\\n    \\\"What data science framework(s) do you use in addition to Python?\\\",\\n    \\\"Which of the following frameworks / libraries do you use in addition to Python?\\\",\\n    \\\"Which of the following cloud platforms do you use?\\\",\\n    \\\"How do you run code in the cloud (in the production environment)?\\\",\\n    \\\"How do you develop for the cloud?\\\",\\n    \\\"What operating system(s) are your development environment?\\\",\\n    \\\"Which Python unit-testing framework(s) do you use, if any?\\\",\\n    \\\"What ORM(s) do you use together with Python, if any?\\\",\\n    \\\"Which database(s) do you regularly use, if any?\\\",\\n    \\\"Which of the following Big Data tool(s) do you use, if any?\\\",\\n    \\\"Which Continuous Integration (CI) system(s) do you regularly use?\\\",\\n    \\\"Which configuration management tools do you use, if any?\\\",\\n    \\\"What editors/IDEs do you use for Python development in addition to your primary IDE?\\\",\\n    \\\"Which of the following best describes your job role(s)?\\\",\\n]\\n\\nnon_csl_cols = [c for c in df if c not in csl_cols]\\nnon_csl_df = df[non_csl_cols]\\n\\none_hot_dfs = []\\nfor col in tqdm(csl_cols):\\n    one_hot_df = df[col].str.get_dummies(\\\", \\\")\\n    one_hot_dfs.append(one_hot_df)\\n\\nfull_one_hot_df = pd.concat(one_hot_dfs, axis=1)\\ndf = pd.concat((df, full_one_hot_df), axis=1)\";\n",
       "                var nbb_cells = Jupyter.notebook.get_cells();\n",
       "                for (var i = 0; i < nbb_cells.length; ++i) {\n",
       "                    if (nbb_cells[i].input_prompt_number == nbb_cell_id) {\n",
       "                        if (nbb_cells[i].get_text() == nbb_unformatted_code) {\n",
       "                             nbb_cells[i].set_text(nbb_formatted_code);\n",
       "                        }\n",
       "                        break;\n",
       "                    }\n",
       "                }\n",
       "            }, 500);\n",
       "            "
      ],
      "text/plain": [
       "<IPython.core.display.Javascript object>"
      ]
     },
     "metadata": {},
     "output_type": "display_data"
    }
   ],
   "source": [
    "csl_cols = [\n",
    "    \"What other language(s) do you use?\",\n",
    "    \"What do you use Python for?\",\n",
    "    \"What do you typically use to upgrade your Python version?\",\n",
    "    \"Do you use any of the following tools to isolate Python environments, if any?\",\n",
    "    \"What web frameworks / libraries do you use in addition to Python?\",\n",
    "    \"What data science framework(s) do you use in addition to Python?\",\n",
    "    \"Which of the following frameworks / libraries do you use in addition to Python?\",\n",
    "    \"Which of the following cloud platforms do you use?\",\n",
    "    \"How do you run code in the cloud (in the production environment)?\",\n",
    "    \"How do you develop for the cloud?\",\n",
    "    \"What operating system(s) are your development environment?\",\n",
    "    \"Which Python unit-testing framework(s) do you use, if any?\",\n",
    "    \"What ORM(s) do you use together with Python, if any?\",\n",
    "    \"Which database(s) do you regularly use, if any?\",\n",
    "    \"Which of the following Big Data tool(s) do you use, if any?\",\n",
    "    \"Which Continuous Integration (CI) system(s) do you regularly use?\",\n",
    "    \"Which configuration management tools do you use, if any?\",\n",
    "    \"What editors/IDEs do you use for Python development in addition to your primary IDE?\",\n",
    "    \"Which of the following best describes your job role(s)?\",\n",
    "]\n",
    "\n",
    "non_csl_cols = [c for c in df if c not in csl_cols]\n",
    "non_csl_df = df[non_csl_cols]\n",
    "\n",
    "one_hot_dfs = []\n",
    "for col in tqdm(csl_cols):\n",
    "    one_hot_df = df[col].str.get_dummies(\", \")\n",
    "    one_hot_dfs.append(one_hot_df)\n",
    "\n",
    "full_one_hot_df = pd.concat(one_hot_dfs, axis=1)\n",
    "df = pd.concat((df, full_one_hot_df), axis=1)"
   ]
  },
  {
   "cell_type": "markdown",
   "metadata": {},
   "source": [
    "###  Mapping Python Version to Float"
   ]
  },
  {
   "cell_type": "code",
   "execution_count": 10,
   "metadata": {
    "scrolled": false
   },
   "outputs": [
    {
     "data": {
      "application/javascript": [
       "\n",
       "            setTimeout(function() {\n",
       "                var nbb_cell_id = 10;\n",
       "                var nbb_unformatted_code = \"py_version_cols = [\\n    \\\"Which version of Python do you use the most?\\\",\\n    \\\"Which version of Python 2 do you use the most?\\\",\\n    \\\"Which version of Python 3 do you use the most?\\\",\\n]\\n\\n# Removing the 2 people who gave minor versions for the 2/3 question... weirdos\\ndf = df[df[py_version_cols].isna().sum(axis=1) > 0]\\n\\nfor col in py_version_cols:\\n    df[col] = df[col].str.replace(r\\\"Python (.+)\\\", r\\\"\\\\1\\\")\\n    df[col] = df[col].astype(float)\\n\\ndf['python_version'] = df[py_version_cols].max(axis=1)\\ndf = df.drop(columns=py_version_cols)\";\n",
       "                var nbb_formatted_code = \"py_version_cols = [\\n    \\\"Which version of Python do you use the most?\\\",\\n    \\\"Which version of Python 2 do you use the most?\\\",\\n    \\\"Which version of Python 3 do you use the most?\\\",\\n]\\n\\n# Removing the 2 people who gave minor versions for the 2/3 question... weirdos\\ndf = df[df[py_version_cols].isna().sum(axis=1) > 0]\\n\\nfor col in py_version_cols:\\n    df[col] = df[col].str.replace(r\\\"Python (.+)\\\", r\\\"\\\\1\\\")\\n    df[col] = df[col].astype(float)\\n\\ndf[\\\"python_version\\\"] = df[py_version_cols].max(axis=1)\\ndf = df.drop(columns=py_version_cols)\";\n",
       "                var nbb_cells = Jupyter.notebook.get_cells();\n",
       "                for (var i = 0; i < nbb_cells.length; ++i) {\n",
       "                    if (nbb_cells[i].input_prompt_number == nbb_cell_id) {\n",
       "                        if (nbb_cells[i].get_text() == nbb_unformatted_code) {\n",
       "                             nbb_cells[i].set_text(nbb_formatted_code);\n",
       "                        }\n",
       "                        break;\n",
       "                    }\n",
       "                }\n",
       "            }, 500);\n",
       "            "
      ],
      "text/plain": [
       "<IPython.core.display.Javascript object>"
      ]
     },
     "metadata": {},
     "output_type": "display_data"
    }
   ],
   "source": [
    "py_version_cols = [\n",
    "    \"Which version of Python do you use the most?\",\n",
    "    \"Which version of Python 2 do you use the most?\",\n",
    "    \"Which version of Python 3 do you use the most?\",\n",
    "]\n",
    "\n",
    "# Removing the 2 people who gave minor versions for the 2/3 question... weirdos\n",
    "df = df[df[py_version_cols].isna().sum(axis=1) > 0]\n",
    "\n",
    "for col in py_version_cols:\n",
    "    df[col] = df[col].str.replace(r\"Python (.+)\", r\"\\1\")\n",
    "    df[col] = df[col].astype(float)\n",
    "\n",
    "df[\"python_version\"] = df[py_version_cols].max(axis=1)\n",
    "df = df.drop(columns=py_version_cols)"
   ]
  }
 ],
 "metadata": {
  "kernelspec": {
   "display_name": "Python 3",
   "language": "python",
   "name": "python3"
  },
  "language_info": {
   "codemirror_mode": {
    "name": "ipython",
    "version": 3
   },
   "file_extension": ".py",
   "mimetype": "text/x-python",
   "name": "python",
   "nbconvert_exporter": "python",
   "pygments_lexer": "ipython3",
   "version": "3.7.7"
  }
 },
 "nbformat": 4,
 "nbformat_minor": 4
}

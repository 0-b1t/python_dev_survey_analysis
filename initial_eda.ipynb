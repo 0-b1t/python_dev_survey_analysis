{
 "cells": [
  {
   "cell_type": "code",
   "execution_count": null,
   "metadata": {},
   "outputs": [],
   "source": [
    "# TODO: whats up with the 'When developing in Python, how often do you …?' question\n",
    "# seems to be a series of responses after performing a collapse operation. do we have the\n",
    "# series of questions in the column name before splitting on the colon?"
   ]
  },
  {
   "cell_type": "code",
   "execution_count": 1,
   "metadata": {},
   "outputs": [
    {
     "data": {
      "application/javascript": [
       "\n",
       "            setTimeout(function() {\n",
       "                var nbb_cell_id = 1;\n",
       "                var nbb_unformatted_code = \"%reload_ext nb_black\";\n",
       "                var nbb_formatted_code = \"%reload_ext nb_black\";\n",
       "                var nbb_cells = Jupyter.notebook.get_cells();\n",
       "                for (var i = 0; i < nbb_cells.length; ++i) {\n",
       "                    if (nbb_cells[i].input_prompt_number == nbb_cell_id) {\n",
       "                        if (nbb_cells[i].get_text() == nbb_unformatted_code) {\n",
       "                             nbb_cells[i].set_text(nbb_formatted_code);\n",
       "                        }\n",
       "                        break;\n",
       "                    }\n",
       "                }\n",
       "            }, 500);\n",
       "            "
      ],
      "text/plain": [
       "<IPython.core.display.Javascript object>"
      ]
     },
     "metadata": {},
     "output_type": "display_data"
    }
   ],
   "source": [
    "%reload_ext nb_black"
   ]
  },
  {
   "cell_type": "code",
   "execution_count": 76,
   "metadata": {},
   "outputs": [
    {
     "data": {
      "application/javascript": [
       "\n",
       "            setTimeout(function() {\n",
       "                var nbb_cell_id = 76;\n",
       "                var nbb_unformatted_code = \"import pandas as pd\\nimport numpy as np\\n\\nfrom tqdm.notebook import tqdm\\n\\nimport seaborn as sns\\nimport matplotlib.pyplot as plt\\n\\n%matplotlib inline\";\n",
       "                var nbb_formatted_code = \"import pandas as pd\\nimport numpy as np\\n\\nfrom tqdm.notebook import tqdm\\n\\nimport seaborn as sns\\nimport matplotlib.pyplot as plt\\n\\n%matplotlib inline\";\n",
       "                var nbb_cells = Jupyter.notebook.get_cells();\n",
       "                for (var i = 0; i < nbb_cells.length; ++i) {\n",
       "                    if (nbb_cells[i].input_prompt_number == nbb_cell_id) {\n",
       "                        if (nbb_cells[i].get_text() == nbb_unformatted_code) {\n",
       "                             nbb_cells[i].set_text(nbb_formatted_code);\n",
       "                        }\n",
       "                        break;\n",
       "                    }\n",
       "                }\n",
       "            }, 500);\n",
       "            "
      ],
      "text/plain": [
       "<IPython.core.display.Javascript object>"
      ]
     },
     "metadata": {},
     "output_type": "display_data"
    }
   ],
   "source": [
    "import pandas as pd\n",
    "import numpy as np\n",
    "\n",
    "from tqdm.notebook import tqdm\n",
    "\n",
    "import seaborn as sns\n",
    "import matplotlib.pyplot as plt\n",
    "\n",
    "%matplotlib inline"
   ]
  },
  {
   "cell_type": "code",
   "execution_count": 75,
   "metadata": {},
   "outputs": [
    {
     "data": {
      "application/javascript": [
       "\n",
       "            setTimeout(function() {\n",
       "                var nbb_cell_id = 75;\n",
       "                var nbb_unformatted_code = \"def comma_collapse(x):\\n    \\\"\\\"\\\"Utility function to remove non-strings before apply str.join()\\n    \\n    :param x: list of items to apply str.join() to\\n    :return: len 1 str of joined items in x\\n             Returns empty string if no strings in x\\n    \\\"\\\"\\\"\\n    x_str = [k for k in x if isinstance(k, str)]\\n\\n    if x is None:\\n        comma_sep_list = \\\"\\\"\\n    else:\\n        comma_sep_list = \\\", \\\".join(x_str)\\n    return comma_sep_list\";\n",
       "                var nbb_formatted_code = \"def comma_collapse(x):\\n    \\\"\\\"\\\"Utility function to remove non-strings before apply str.join()\\n    \\n    :param x: list of items to apply str.join() to\\n    :return: len 1 str of joined items in x\\n             Returns empty string if no strings in x\\n    \\\"\\\"\\\"\\n    x_str = [k for k in x if isinstance(k, str)]\\n\\n    if x is None:\\n        comma_sep_list = \\\"\\\"\\n    else:\\n        comma_sep_list = \\\", \\\".join(x_str)\\n    return comma_sep_list\";\n",
       "                var nbb_cells = Jupyter.notebook.get_cells();\n",
       "                for (var i = 0; i < nbb_cells.length; ++i) {\n",
       "                    if (nbb_cells[i].input_prompt_number == nbb_cell_id) {\n",
       "                        if (nbb_cells[i].get_text() == nbb_unformatted_code) {\n",
       "                             nbb_cells[i].set_text(nbb_formatted_code);\n",
       "                        }\n",
       "                        break;\n",
       "                    }\n",
       "                }\n",
       "            }, 500);\n",
       "            "
      ],
      "text/plain": [
       "<IPython.core.display.Javascript object>"
      ]
     },
     "metadata": {},
     "output_type": "display_data"
    }
   ],
   "source": [
    "def comma_collapse(x):\n",
    "    \"\"\"Utility function to remove non-strings before apply str.join()\n",
    "    \n",
    "    :param x: list of items to apply str.join() to\n",
    "    :return: len 1 str of joined items in x\n",
    "             Returns empty string if no strings in x\n",
    "    \"\"\"\n",
    "    x_str = [k for k in x if isinstance(k, str)]\n",
    "\n",
    "    if x is None:\n",
    "        comma_sep_list = \"\"\n",
    "    else:\n",
    "        comma_sep_list = \", \".join(x_str)\n",
    "    return comma_sep_list"
   ]
  },
  {
   "cell_type": "code",
   "execution_count": 77,
   "metadata": {},
   "outputs": [
    {
     "name": "stderr",
     "output_type": "stream",
     "text": [
      "/Users/aspannbauer/Documents/github/python_dev_survey_analysis/venv/lib/python3.7/site-packages/IPython/core/interactiveshell.py:3063: DtypeWarning: Columns (5,6,66,70,73,78,98,170,181,183,200,202,206,210,225,234,235,237,244,285) have mixed types.Specify dtype option on import or set low_memory=False.\n",
      "  interactivity=interactivity, compiler=compiler, result=result)\n"
     ]
    },
    {
     "data": {
      "text/plain": [
       "(47308, 290)"
      ]
     },
     "execution_count": 77,
     "metadata": {},
     "output_type": "execute_result"
    },
    {
     "data": {
      "application/javascript": [
       "\n",
       "            setTimeout(function() {\n",
       "                var nbb_cell_id = 77;\n",
       "                var nbb_unformatted_code = \"# All questions were multiple choice, only columns\\n# with more than 24 unique responses are the id field\\n# and the country field (91)\\ndata_path = \\\"data/python_psf_external_19.csv\\\"\\nraw_df = pd.read_csv(data_path)\\nraw_df.shape\";\n",
       "                var nbb_formatted_code = \"# All questions were multiple choice, only columns\\n# with more than 24 unique responses are the id field\\n# and the country field (91)\\ndata_path = \\\"data/python_psf_external_19.csv\\\"\\nraw_df = pd.read_csv(data_path)\\nraw_df.shape\";\n",
       "                var nbb_cells = Jupyter.notebook.get_cells();\n",
       "                for (var i = 0; i < nbb_cells.length; ++i) {\n",
       "                    if (nbb_cells[i].input_prompt_number == nbb_cell_id) {\n",
       "                        if (nbb_cells[i].get_text() == nbb_unformatted_code) {\n",
       "                             nbb_cells[i].set_text(nbb_formatted_code);\n",
       "                        }\n",
       "                        break;\n",
       "                    }\n",
       "                }\n",
       "            }, 500);\n",
       "            "
      ],
      "text/plain": [
       "<IPython.core.display.Javascript object>"
      ]
     },
     "metadata": {},
     "output_type": "display_data"
    }
   ],
   "source": [
    "# All questions were multiple choice, only columns\n",
    "# with more than 24 unique responses are the id field\n",
    "# and the country field (91)\n",
    "data_path = \"data/python_psf_external_19.csv\"\n",
    "raw_df = pd.read_csv(data_path)\n",
    "raw_df.shape"
   ]
  },
  {
   "cell_type": "code",
   "execution_count": null,
   "metadata": {},
   "outputs": [
    {
     "data": {
      "application/vnd.jupyter.widget-view+json": {
       "model_id": "ed07df0f22604e42b0c19f25b124346c",
       "version_major": 2,
       "version_minor": 0
      },
      "text/plain": [
       "HBox(children=(FloatProgress(value=0.0, max=21.0), HTML(value='')))"
      ]
     },
     "metadata": {},
     "output_type": "display_data"
    }
   ],
   "source": [
    "colon_cols = [c for c in raw_df if \":\" in c]\n",
    "non_colon_cols = [c for c in raw_df if c not in colon_cols]\n",
    "\n",
    "colon_col_names = pd.Series(colon_cols)\n",
    "colon_unique_qs = colon_col_names.str.split(\":\").str[-1].unique()\n",
    "\n",
    "collapsed_series = []\n",
    "for qoi in tqdm(colon_unique_qs):\n",
    "    df_oi = raw_df.filter(like=qoi)\n",
    "    collapsed = df_oi.apply(comma_collapse, axis=1)\n",
    "    collapsed.name = qoi.strip()\n",
    "    collapsed_series.append(collapsed)\n",
    "\n",
    "\n",
    "colon_df = pd.concat(collapsed_series, axis=1)\n",
    "df = pd.concat((raw_df[non_colon_cols], colon_df), axis=1)\n",
    "df.head()"
   ]
  }
 ],
 "metadata": {
  "kernelspec": {
   "display_name": "Python 3",
   "language": "python",
   "name": "python3"
  },
  "language_info": {
   "codemirror_mode": {
    "name": "ipython",
    "version": 3
   },
   "file_extension": ".py",
   "mimetype": "text/x-python",
   "name": "python",
   "nbconvert_exporter": "python",
   "pygments_lexer": "ipython3",
   "version": "3.7.7"
  }
 },
 "nbformat": 4,
 "nbformat_minor": 4
}
